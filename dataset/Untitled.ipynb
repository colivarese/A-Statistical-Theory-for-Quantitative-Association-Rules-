{
 "cells": [
  {
   "cell_type": "code",
   "execution_count": 1,
   "id": "8e2771ee",
   "metadata": {},
   "outputs": [],
   "source": [
    "import numpy as np\n",
    "import pandas as pd"
   ]
  },
  {
   "cell_type": "code",
   "execution_count": 2,
   "id": "35fa07a5",
   "metadata": {},
   "outputs": [],
   "source": [
    "df = pd.read_csv('data_tocube.csv')"
   ]
  },
  {
   "cell_type": "code",
   "execution_count": 3,
   "id": "840f8070",
   "metadata": {},
   "outputs": [
    {
     "data": {
      "text/html": [
       "<div>\n",
       "<style scoped>\n",
       "    .dataframe tbody tr th:only-of-type {\n",
       "        vertical-align: middle;\n",
       "    }\n",
       "\n",
       "    .dataframe tbody tr th {\n",
       "        vertical-align: top;\n",
       "    }\n",
       "\n",
       "    .dataframe thead th {\n",
       "        text-align: right;\n",
       "    }\n",
       "</style>\n",
       "<table border=\"1\" class=\"dataframe\">\n",
       "  <thead>\n",
       "    <tr style=\"text-align: right;\">\n",
       "      <th></th>\n",
       "      <th>Unnamed: 0</th>\n",
       "      <th>GADE</th>\n",
       "      <th>Platform</th>\n",
       "      <th>Hours</th>\n",
       "      <th>whyplay</th>\n",
       "      <th>League</th>\n",
       "      <th>streams</th>\n",
       "      <th>Narcissism</th>\n",
       "      <th>Gender</th>\n",
       "      <th>Age</th>\n",
       "      <th>...</th>\n",
       "      <th>Degree</th>\n",
       "      <th>Birthplace</th>\n",
       "      <th>Residence</th>\n",
       "      <th>Playstyle</th>\n",
       "      <th>GAD_T</th>\n",
       "      <th>SWL_T</th>\n",
       "      <th>SPIN_T</th>\n",
       "      <th>GAD_cat</th>\n",
       "      <th>SWL_cat</th>\n",
       "      <th>SPIN_cat</th>\n",
       "    </tr>\n",
       "  </thead>\n",
       "  <tbody>\n",
       "    <tr>\n",
       "      <th>0</th>\n",
       "      <td>1</td>\n",
       "      <td>Extremely difficult</td>\n",
       "      <td>PC</td>\n",
       "      <td>60</td>\n",
       "      <td>improving</td>\n",
       "      <td>Diamond</td>\n",
       "      <td>10</td>\n",
       "      <td>3</td>\n",
       "      <td>Male</td>\n",
       "      <td>24</td>\n",
       "      <td>...</td>\n",
       "      <td>High School</td>\n",
       "      <td>Germany</td>\n",
       "      <td>Germany</td>\n",
       "      <td>Multiplayer - online - with online acquaintanc...</td>\n",
       "      <td>15</td>\n",
       "      <td>9</td>\n",
       "      <td>37</td>\n",
       "      <td>Severe</td>\n",
       "      <td>Extremely dissastified</td>\n",
       "      <td>Moderate</td>\n",
       "    </tr>\n",
       "  </tbody>\n",
       "</table>\n",
       "<p>1 rows × 21 columns</p>\n",
       "</div>"
      ],
      "text/plain": [
       "   Unnamed: 0                 GADE Platform  Hours    whyplay   League  \\\n",
       "0           1  Extremely difficult       PC     60  improving  Diamond   \n",
       "\n",
       "   streams  Narcissism Gender  Age  ...       Degree Birthplace Residence  \\\n",
       "0       10           3   Male   24  ...  High School    Germany   Germany   \n",
       "\n",
       "                                           Playstyle GAD_T  SWL_T  SPIN_T  \\\n",
       "0  Multiplayer - online - with online acquaintanc...    15      9      37   \n",
       "\n",
       "  GAD_cat                 SWL_cat  SPIN_cat  \n",
       "0  Severe  Extremely dissastified  Moderate  \n",
       "\n",
       "[1 rows x 21 columns]"
      ]
     },
     "execution_count": 3,
     "metadata": {},
     "output_type": "execute_result"
    }
   ],
   "source": [
    "df.head(1)"
   ]
  },
  {
   "cell_type": "code",
   "execution_count": 4,
   "id": "d0be775c",
   "metadata": {},
   "outputs": [],
   "source": [
    "df2 = df[['League','Degree','whyplay','Age','GAD_T']]"
   ]
  },
  {
   "cell_type": "code",
   "execution_count": 5,
   "id": "e2bfd2e1",
   "metadata": {},
   "outputs": [],
   "source": [
    "df2.to_csv('categorical.csv',index=False)"
   ]
  },
  {
   "cell_type": "code",
   "execution_count": 6,
   "id": "d9debfdb",
   "metadata": {},
   "outputs": [],
   "source": [
    "df3 = pd.read_csv('categorical.csv')"
   ]
  },
  {
   "cell_type": "code",
   "execution_count": 7,
   "id": "4f453972",
   "metadata": {},
   "outputs": [
    {
     "data": {
      "text/html": [
       "<div>\n",
       "<style scoped>\n",
       "    .dataframe tbody tr th:only-of-type {\n",
       "        vertical-align: middle;\n",
       "    }\n",
       "\n",
       "    .dataframe tbody tr th {\n",
       "        vertical-align: top;\n",
       "    }\n",
       "\n",
       "    .dataframe thead th {\n",
       "        text-align: right;\n",
       "    }\n",
       "</style>\n",
       "<table border=\"1\" class=\"dataframe\">\n",
       "  <thead>\n",
       "    <tr style=\"text-align: right;\">\n",
       "      <th></th>\n",
       "      <th>League</th>\n",
       "      <th>Degree</th>\n",
       "      <th>whyplay</th>\n",
       "      <th>Age</th>\n",
       "      <th>GAD_T</th>\n",
       "    </tr>\n",
       "  </thead>\n",
       "  <tbody>\n",
       "    <tr>\n",
       "      <th>0</th>\n",
       "      <td>Diamond</td>\n",
       "      <td>High School</td>\n",
       "      <td>improving</td>\n",
       "      <td>24</td>\n",
       "      <td>15</td>\n",
       "    </tr>\n",
       "    <tr>\n",
       "      <th>1</th>\n",
       "      <td>Bronze</td>\n",
       "      <td>Bachelor</td>\n",
       "      <td>having fun</td>\n",
       "      <td>36</td>\n",
       "      <td>5</td>\n",
       "    </tr>\n",
       "  </tbody>\n",
       "</table>\n",
       "</div>"
      ],
      "text/plain": [
       "    League       Degree     whyplay  Age  GAD_T\n",
       "0  Diamond  High School   improving   24     15\n",
       "1   Bronze     Bachelor  having fun   36      5"
      ]
     },
     "execution_count": 7,
     "metadata": {},
     "output_type": "execute_result"
    }
   ],
   "source": [
    "df3.head(2)"
   ]
  },
  {
   "cell_type": "code",
   "execution_count": 8,
   "id": "a290e00b",
   "metadata": {},
   "outputs": [
    {
     "data": {
      "text/plain": [
       "League     object\n",
       "Degree     object\n",
       "whyplay    object\n",
       "Age         int64\n",
       "GAD_T       int64\n",
       "dtype: object"
      ]
     },
     "execution_count": 8,
     "metadata": {},
     "output_type": "execute_result"
    }
   ],
   "source": [
    "df3.dtypes"
   ]
  },
  {
   "cell_type": "code",
   "execution_count": 190,
   "id": "b9987a04",
   "metadata": {},
   "outputs": [
    {
     "data": {
      "text/html": [
       "<div>\n",
       "<style scoped>\n",
       "    .dataframe tbody tr th:only-of-type {\n",
       "        vertical-align: middle;\n",
       "    }\n",
       "\n",
       "    .dataframe tbody tr th {\n",
       "        vertical-align: top;\n",
       "    }\n",
       "\n",
       "    .dataframe thead th {\n",
       "        text-align: right;\n",
       "    }\n",
       "</style>\n",
       "<table border=\"1\" class=\"dataframe\">\n",
       "  <thead>\n",
       "    <tr style=\"text-align: right;\">\n",
       "      <th></th>\n",
       "      <th>League</th>\n",
       "      <th>Degree</th>\n",
       "      <th>whyplay</th>\n",
       "    </tr>\n",
       "  </thead>\n",
       "  <tbody>\n",
       "    <tr>\n",
       "      <th>0</th>\n",
       "      <td>Diamond</td>\n",
       "      <td>High School</td>\n",
       "      <td>improving</td>\n",
       "    </tr>\n",
       "    <tr>\n",
       "      <th>1</th>\n",
       "      <td>Bronze</td>\n",
       "      <td>Bachelor</td>\n",
       "      <td>having fun</td>\n",
       "    </tr>\n",
       "    <tr>\n",
       "      <th>2</th>\n",
       "      <td>Gold</td>\n",
       "      <td>High School</td>\n",
       "      <td>winning</td>\n",
       "    </tr>\n",
       "    <tr>\n",
       "      <th>3</th>\n",
       "      <td>Gold</td>\n",
       "      <td>Master</td>\n",
       "      <td>having fun</td>\n",
       "    </tr>\n",
       "    <tr>\n",
       "      <th>4</th>\n",
       "      <td>Gold</td>\n",
       "      <td>High School</td>\n",
       "      <td>having fun</td>\n",
       "    </tr>\n",
       "    <tr>\n",
       "      <th>...</th>\n",
       "      <td>...</td>\n",
       "      <td>...</td>\n",
       "      <td>...</td>\n",
       "    </tr>\n",
       "    <tr>\n",
       "      <th>8969</th>\n",
       "      <td>Gold</td>\n",
       "      <td>Master</td>\n",
       "      <td>relaxing</td>\n",
       "    </tr>\n",
       "    <tr>\n",
       "      <th>8970</th>\n",
       "      <td>Silver</td>\n",
       "      <td>None</td>\n",
       "      <td>improving</td>\n",
       "    </tr>\n",
       "    <tr>\n",
       "      <th>8971</th>\n",
       "      <td>Silver</td>\n",
       "      <td>High School</td>\n",
       "      <td>having fun</td>\n",
       "    </tr>\n",
       "    <tr>\n",
       "      <th>8972</th>\n",
       "      <td>Gold</td>\n",
       "      <td>High School</td>\n",
       "      <td>having fun</td>\n",
       "    </tr>\n",
       "    <tr>\n",
       "      <th>8973</th>\n",
       "      <td>Diamond</td>\n",
       "      <td>High School</td>\n",
       "      <td>improving</td>\n",
       "    </tr>\n",
       "  </tbody>\n",
       "</table>\n",
       "<p>8974 rows × 3 columns</p>\n",
       "</div>"
      ],
      "text/plain": [
       "       League       Degree     whyplay\n",
       "0     Diamond  High School   improving\n",
       "1      Bronze     Bachelor  having fun\n",
       "2        Gold  High School     winning\n",
       "3        Gold       Master  having fun\n",
       "4        Gold  High School  having fun\n",
       "...       ...          ...         ...\n",
       "8969     Gold       Master    relaxing\n",
       "8970   Silver         None   improving\n",
       "8971   Silver  High School  having fun\n",
       "8972     Gold  High School  having fun\n",
       "8973  Diamond  High School   improving\n",
       "\n",
       "[8974 rows x 3 columns]"
      ]
     },
     "execution_count": 190,
     "metadata": {},
     "output_type": "execute_result"
    }
   ],
   "source": [
    "df3.select_dtypes(['object'])"
   ]
  },
  {
   "cell_type": "code",
   "execution_count": 156,
   "id": "338101ef",
   "metadata": {},
   "outputs": [],
   "source": [
    "arr = df.to_numpy()"
   ]
  },
  {
   "cell_type": "code",
   "execution_count": 157,
   "id": "0dacaa86",
   "metadata": {},
   "outputs": [
    {
     "data": {
      "text/plain": [
       "array([[60, 15],\n",
       "       [ 5,  5],\n",
       "       [ 6,  2],\n",
       "       ...,\n",
       "       [30,  6],\n",
       "       [20,  0],\n",
       "       [15,  2]])"
      ]
     },
     "execution_count": 157,
     "metadata": {},
     "output_type": "execute_result"
    }
   ],
   "source": [
    "arr"
   ]
  },
  {
   "cell_type": "code",
   "execution_count": 165,
   "id": "a5592821",
   "metadata": {},
   "outputs": [],
   "source": [
    "dims = 0"
   ]
  },
  {
   "cell_type": "code",
   "execution_count": 166,
   "id": "33dd77b8",
   "metadata": {},
   "outputs": [],
   "source": [
    "arr2 = sorted(arr, key=lambda a: a[dims])"
   ]
  },
  {
   "cell_type": "code",
   "execution_count": 168,
   "id": "f0f96678",
   "metadata": {},
   "outputs": [],
   "source": [
    "dim = [i[1] for i in arr2]"
   ]
  },
  {
   "cell_type": "code",
   "execution_count": 170,
   "id": "1dde1454",
   "metadata": {},
   "outputs": [
    {
     "data": {
      "text/plain": [
       "5.384778248272788"
      ]
     },
     "execution_count": 170,
     "metadata": {},
     "output_type": "execute_result"
    }
   ],
   "source": [
    "np.mean(dim)"
   ]
  },
  {
   "cell_type": "code",
   "execution_count": 160,
   "id": "f0fa1796",
   "metadata": {},
   "outputs": [],
   "source": [
    "a = arr"
   ]
  },
  {
   "cell_type": "code",
   "execution_count": 176,
   "id": "b4082d4b",
   "metadata": {},
   "outputs": [
    {
     "data": {
      "text/plain": [
       "0"
      ]
     },
     "execution_count": 176,
     "metadata": {},
     "output_type": "execute_result"
    }
   ],
   "source": [
    "arr2[0][0]"
   ]
  },
  {
   "cell_type": "code",
   "execution_count": 198,
   "id": "0a81653a",
   "metadata": {},
   "outputs": [
    {
     "data": {
      "text/plain": [
       "7204814214171964562"
      ]
     },
     "execution_count": 198,
     "metadata": {},
     "output_type": "execute_result"
    }
   ],
   "source": [
    "hash(tuple(arr2[0]))"
   ]
  },
  {
   "cell_type": "code",
   "execution_count": 199,
   "id": "5c50bad3",
   "metadata": {},
   "outputs": [
    {
     "data": {
      "text/plain": [
       "array([0, 2])"
      ]
     },
     "execution_count": 199,
     "metadata": {},
     "output_type": "execute_result"
    }
   ],
   "source": [
    "arr2[0]"
   ]
  },
  {
   "cell_type": "code",
   "execution_count": 200,
   "id": "5099cb0f",
   "metadata": {},
   "outputs": [],
   "source": [
    "b = np.array([2,0])"
   ]
  },
  {
   "cell_type": "code",
   "execution_count": 201,
   "id": "ac2a9feb",
   "metadata": {},
   "outputs": [
    {
     "data": {
      "text/plain": [
       "array([2, 0])"
      ]
     },
     "execution_count": 201,
     "metadata": {},
     "output_type": "execute_result"
    }
   ],
   "source": [
    "b"
   ]
  },
  {
   "cell_type": "code",
   "execution_count": 202,
   "id": "8efe0898",
   "metadata": {},
   "outputs": [
    {
     "data": {
      "text/plain": [
       "4685526799349444076"
      ]
     },
     "execution_count": 202,
     "metadata": {},
     "output_type": "execute_result"
    }
   ],
   "source": [
    "hash(tuple(b))"
   ]
  },
  {
   "cell_type": "code",
   "execution_count": 203,
   "id": "f80d2773",
   "metadata": {},
   "outputs": [
    {
     "data": {
      "text/plain": [
       "True"
      ]
     },
     "execution_count": 203,
     "metadata": {},
     "output_type": "execute_result"
    }
   ],
   "source": [
    "set(arr2[0]) == set(b)"
   ]
  },
  {
   "cell_type": "code",
   "execution_count": 204,
   "id": "49a93350",
   "metadata": {},
   "outputs": [],
   "source": [
    "c = [[2,0],[3,0],[1,0]]"
   ]
  },
  {
   "cell_type": "code",
   "execution_count": 205,
   "id": "74856487",
   "metadata": {},
   "outputs": [
    {
     "data": {
      "text/plain": [
       "True"
      ]
     },
     "execution_count": 205,
     "metadata": {},
     "output_type": "execute_result"
    }
   ],
   "source": [
    "[2,0] in c"
   ]
  },
  {
   "cell_type": "code",
   "execution_count": 206,
   "id": "ba9a843d",
   "metadata": {},
   "outputs": [
    {
     "data": {
      "text/plain": [
       "False"
      ]
     },
     "execution_count": 206,
     "metadata": {},
     "output_type": "execute_result"
    }
   ],
   "source": [
    "[0,2] in c"
   ]
  },
  {
   "cell_type": "code",
   "execution_count": null,
   "id": "94cbd29d",
   "metadata": {},
   "outputs": [],
   "source": []
  }
 ],
 "metadata": {
  "kernelspec": {
   "display_name": "Python 3 (ipykernel)",
   "language": "python",
   "name": "python3"
  },
  "language_info": {
   "codemirror_mode": {
    "name": "ipython",
    "version": 3
   },
   "file_extension": ".py",
   "mimetype": "text/x-python",
   "name": "python",
   "nbconvert_exporter": "python",
   "pygments_lexer": "ipython3",
   "version": "3.8.11"
  }
 },
 "nbformat": 4,
 "nbformat_minor": 5
}
